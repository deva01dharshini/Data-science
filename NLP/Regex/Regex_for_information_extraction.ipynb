{
  "nbformat": 4,
  "nbformat_minor": 0,
  "metadata": {
    "colab": {
      "provenance": [],
      "toc_visible": true
    },
    "kernelspec": {
      "name": "python3",
      "display_name": "Python 3"
    },
    "language_info": {
      "name": "python"
    }
  },
  "cells": [
    {
      "cell_type": "markdown",
      "source": [
        " **REGULAR EXPRESSIONS**\n",
        "\n"
      ],
      "metadata": {
        "id": "tJijy6bZwO_I"
      }
    },
    {
      "cell_type": "markdown",
      "source": [
        "**(1)REGEX IN CUSTOMER SUPPORT**"
      ],
      "metadata": {
        "id": "2OQRrx_7wEbK"
      }
    },
    {
      "cell_type": "markdown",
      "source": [
        "Retrieve Order number"
      ],
      "metadata": {
        "id": "Hkk9nonudGjh"
      }
    },
    {
      "cell_type": "code",
      "source": [
        "chat1='codebasics: Hello, I am having an issue with my order # 412889912'\n",
        "chat2='codebasics: I have a problem with my order number 47889912'\n",
        "chat3='codebasics: My order 462889912 is having an issue, I was charged 300$ when online it says 280$'"
      ],
      "metadata": {
        "id": "BJDBZ4O1dAff"
      },
      "execution_count": 78,
      "outputs": []
    },
    {
      "cell_type": "code",
      "source": [
        "pattern='order[^\\d]*(\\d*)'"
      ],
      "metadata": {
        "id": "oH1JIxLJsZQl"
      },
      "execution_count": 79,
      "outputs": []
    },
    {
      "cell_type": "code",
      "source": [
        "def get_pattern_match(pattern,text):\n",
        "  matches=re.findall(pattern,text)\n",
        "  if matches:\n",
        "    return matches[0]"
      ],
      "metadata": {
        "id": "sonNlOC3r1M7"
      },
      "execution_count": 101,
      "outputs": []
    },
    {
      "cell_type": "code",
      "source": [
        "get_pattern_match(pattern,chat1)"
      ],
      "metadata": {
        "colab": {
          "base_uri": "https://localhost:8080/",
          "height": 35
        },
        "id": "Ld02uCNEsVR0",
        "outputId": "d849e711-5215-4109-8f9d-7ce2677ce1c2"
      },
      "execution_count": 81,
      "outputs": [
        {
          "output_type": "execute_result",
          "data": {
            "text/plain": [
              "'412889912'"
            ],
            "application/vnd.google.colaboratory.intrinsic+json": {
              "type": "string"
            }
          },
          "metadata": {},
          "execution_count": 81
        }
      ]
    },
    {
      "cell_type": "code",
      "source": [
        "get_pattern_match(pattern,chat2)"
      ],
      "metadata": {
        "colab": {
          "base_uri": "https://localhost:8080/",
          "height": 35
        },
        "id": "GR5bJyg5vE0T",
        "outputId": "2e891551-c021-4def-874d-d197aa02fd79"
      },
      "execution_count": 82,
      "outputs": [
        {
          "output_type": "execute_result",
          "data": {
            "text/plain": [
              "'47889912'"
            ],
            "application/vnd.google.colaboratory.intrinsic+json": {
              "type": "string"
            }
          },
          "metadata": {},
          "execution_count": 82
        }
      ]
    },
    {
      "cell_type": "code",
      "source": [
        "get_pattern_match(pattern,chat3)"
      ],
      "metadata": {
        "colab": {
          "base_uri": "https://localhost:8080/",
          "height": 35
        },
        "id": "-lMGeE2qvHNk",
        "outputId": "baa532b7-8c0e-4660-9893-74589e993977"
      },
      "execution_count": 83,
      "outputs": [
        {
          "output_type": "execute_result",
          "data": {
            "text/plain": [
              "'462889912'"
            ],
            "application/vnd.google.colaboratory.intrinsic+json": {
              "type": "string"
            }
          },
          "metadata": {},
          "execution_count": 83
        }
      ]
    },
    {
      "cell_type": "markdown",
      "source": [
        "Retrieve Email id and Phone number"
      ],
      "metadata": {
        "id": "50d13wN9W0H_"
      }
    },
    {
      "cell_type": "code",
      "source": [
        "chat5 = 'codebasics: you ask lot of questions 😠  1235678912, abc@xyz.com'\n",
        "chat6 = 'codebasics: here it is: (123)-567-8912, Ab_8c@xyz.com'\n",
        "chat7 = 'codebasics: yes, phone: 1235678912 email: def@xyz.com'"
      ],
      "metadata": {
        "id": "jZlwjb75TXzH"
      },
      "execution_count": 84,
      "outputs": []
    },
    {
      "cell_type": "markdown",
      "source": [
        "Phone number"
      ],
      "metadata": {
        "id": "hY9M92LSXRYo"
      }
    },
    {
      "cell_type": "code",
      "source": [
        "pattern1='(\\d{10})|(\\(\\d{3}\\)-\\d{3}-\\d{4})'"
      ],
      "metadata": {
        "id": "3ug09j0iXU8Y"
      },
      "execution_count": 85,
      "outputs": []
    },
    {
      "cell_type": "code",
      "source": [
        "get_pattern_match(pattern1,chat5)"
      ],
      "metadata": {
        "colab": {
          "base_uri": "https://localhost:8080/"
        },
        "id": "nqoSFoqkvQK5",
        "outputId": "5a7976a0-40a7-4581-9e4f-afd14fdeea0a"
      },
      "execution_count": 86,
      "outputs": [
        {
          "output_type": "execute_result",
          "data": {
            "text/plain": [
              "('1235678912', '')"
            ]
          },
          "metadata": {},
          "execution_count": 86
        }
      ]
    },
    {
      "cell_type": "code",
      "source": [
        "\n",
        "get_pattern_match(pattern1,chat6)"
      ],
      "metadata": {
        "colab": {
          "base_uri": "https://localhost:8080/"
        },
        "id": "O7sfoKz9kK-b",
        "outputId": "8b54656f-06c6-402c-cd6a-f3d7d62d1f05"
      },
      "execution_count": 87,
      "outputs": [
        {
          "output_type": "execute_result",
          "data": {
            "text/plain": [
              "('', '(123)-567-8912')"
            ]
          },
          "metadata": {},
          "execution_count": 87
        }
      ]
    },
    {
      "cell_type": "code",
      "source": [
        "get_pattern_match(pattern1,chat7)"
      ],
      "metadata": {
        "colab": {
          "base_uri": "https://localhost:8080/"
        },
        "id": "ddU9FI41mzTf",
        "outputId": "aa49dcac-8997-48d1-ad4f-cf6098b4712b"
      },
      "execution_count": 88,
      "outputs": [
        {
          "output_type": "execute_result",
          "data": {
            "text/plain": [
              "('1235678912', '')"
            ]
          },
          "metadata": {},
          "execution_count": 88
        }
      ]
    },
    {
      "cell_type": "markdown",
      "source": [
        "-----Email id----"
      ],
      "metadata": {
        "id": "lZG27VMmnMpm"
      }
    },
    {
      "cell_type": "code",
      "source": [
        "pattern='[a-zA-Z0-9_]*@[a-z]*\\.com'\n",
        "matches=re.findall(pattern,chat5)\n",
        "matches"
      ],
      "metadata": {
        "colab": {
          "base_uri": "https://localhost:8080/"
        },
        "id": "CPyrD4fEm1FU",
        "outputId": "692352ab-341b-4e25-8742-3dfb9d7ea835"
      },
      "execution_count": 89,
      "outputs": [
        {
          "output_type": "execute_result",
          "data": {
            "text/plain": [
              "['abc@xyz.com']"
            ]
          },
          "metadata": {},
          "execution_count": 89
        }
      ]
    },
    {
      "cell_type": "code",
      "source": [
        "pattern='[a-zA-Z0-9_]*@[a-z]*\\.com'\n",
        "matches=re.findall(pattern,chat6)\n",
        "matches"
      ],
      "metadata": {
        "colab": {
          "base_uri": "https://localhost:8080/"
        },
        "id": "spSa77DNoYi-",
        "outputId": "cc112eda-ccc4-4ed2-bccd-b759fccaa01b"
      },
      "execution_count": 90,
      "outputs": [
        {
          "output_type": "execute_result",
          "data": {
            "text/plain": [
              "['Ab_8c@xyz.com']"
            ]
          },
          "metadata": {},
          "execution_count": 90
        }
      ]
    },
    {
      "cell_type": "code",
      "source": [
        "pattern='[a-zA-Z0-9_]*@[a-z]*\\.com'\n",
        "matches=re.findall(pattern,chat7)\n",
        "matches"
      ],
      "metadata": {
        "colab": {
          "base_uri": "https://localhost:8080/"
        },
        "id": "ae8-SGBBokW0",
        "outputId": "6298f5c5-9a8a-4fa2-f927-95b3b00f08a1"
      },
      "execution_count": 91,
      "outputs": [
        {
          "output_type": "execute_result",
          "data": {
            "text/plain": [
              "['def@xyz.com']"
            ]
          },
          "metadata": {},
          "execution_count": 91
        }
      ]
    },
    {
      "cell_type": "markdown",
      "source": [
        "***(2)REGEX FOR INFORMATION EXTRACTION***"
      ],
      "metadata": {
        "id": "bcREn4G8v3SV"
      }
    },
    {
      "cell_type": "code",
      "source": [
        "text='''\n",
        "Born\tElon Reeve Musk\n",
        "June 28, 1971 (age 50)\n",
        "Pretoria, Transvaal, South Africa\n",
        "Citizenship\n",
        "South Africa (1971–present)\n",
        "Canada (1971–present)\n",
        "United States (2002–present)\n",
        "Education\tUniversity of Pennsylvania (BS, BA)\n",
        "Title\n",
        "Founder, CEO and Chief Engineer of SpaceX\n",
        "CEO and product architect of Tesla, Inc.\n",
        "Founder of The Boring Company and X.com (now part of PayPal)\n",
        "Co-founder of Neuralink, OpenAI, and Zip2\n",
        "Spouse(s)\n",
        "Justine Wilson\n",
        "​\n",
        "​(m. 2000; div. 2008)​\n",
        "Talulah Riley\n",
        "​\n",
        "​(m. 2010; div. 2012)​\n",
        "​\n",
        "​(m. 2013; div. 2016)\n",
        "'''"
      ],
      "metadata": {
        "id": "ei0L_hGOonFU"
      },
      "execution_count": 92,
      "outputs": []
    },
    {
      "cell_type": "code",
      "source": [
        "get_pattern_match('age (\\d+)',text)"
      ],
      "metadata": {
        "colab": {
          "base_uri": "https://localhost:8080/",
          "height": 35
        },
        "id": "qHrhlrIAxCv3",
        "outputId": "ab5d9b96-32f3-4662-be0b-43bbe1da54e5"
      },
      "execution_count": 93,
      "outputs": [
        {
          "output_type": "execute_result",
          "data": {
            "text/plain": [
              "'50'"
            ],
            "application/vnd.google.colaboratory.intrinsic+json": {
              "type": "string"
            }
          },
          "metadata": {},
          "execution_count": 93
        }
      ]
    },
    {
      "cell_type": "code",
      "source": [
        "get_pattern_match('Born(.*)',text).strip()"
      ],
      "metadata": {
        "colab": {
          "base_uri": "https://localhost:8080/",
          "height": 35
        },
        "id": "gVj7wrpTJgcv",
        "outputId": "26ccb949-e7c7-4683-ca6b-38e4fa1917a5"
      },
      "execution_count": 94,
      "outputs": [
        {
          "output_type": "execute_result",
          "data": {
            "text/plain": [
              "'Elon Reeve Musk'"
            ],
            "application/vnd.google.colaboratory.intrinsic+json": {
              "type": "string"
            }
          },
          "metadata": {},
          "execution_count": 94
        }
      ]
    },
    {
      "cell_type": "code",
      "source": [
        "get_pattern_match(r'Born.*\\n(.*)\\(age',text)"
      ],
      "metadata": {
        "colab": {
          "base_uri": "https://localhost:8080/",
          "height": 35
        },
        "id": "f-yOc_irJ4nP",
        "outputId": "06d99945-8970-4b35-bd16-fc3926c79f57"
      },
      "execution_count": 117,
      "outputs": [
        {
          "output_type": "execute_result",
          "data": {
            "text/plain": [
              "'June 28, 1971 '"
            ],
            "application/vnd.google.colaboratory.intrinsic+json": {
              "type": "string"
            }
          },
          "metadata": {},
          "execution_count": 117
        }
      ]
    },
    {
      "cell_type": "code",
      "source": [
        "get_pattern_match(r'\\(age.*\\n(.*)',text)"
      ],
      "metadata": {
        "colab": {
          "base_uri": "https://localhost:8080/",
          "height": 35
        },
        "id": "dZ7kjaIcLVbb",
        "outputId": "a2c47276-7500-4fcb-a1d5-1f3133706318"
      },
      "execution_count": 118,
      "outputs": [
        {
          "output_type": "execute_result",
          "data": {
            "text/plain": [
              "'Pretoria, Transvaal, South Africa'"
            ],
            "application/vnd.google.colaboratory.intrinsic+json": {
              "type": "string"
            }
          },
          "metadata": {},
          "execution_count": 118
        }
      ]
    },
    {
      "cell_type": "code",
      "source": [
        "def extract_personal_information(text):\n",
        "  age=get_pattern_match('age (\\d+)',text)\n",
        "  full_name=get_pattern_match('Born(.*)',text)\n",
        "  birth_date=get_pattern_match(r'Born.*\\n(.*)\\(age',text)\n",
        "  birth_place=get_pattern_match('\\(age.*\\n(.*)',text)\n",
        "  return{\n",
        "      'age':int(age),\n",
        "      'full_name':full_name.strip(),\n",
        "      'birth_date':birth_date,\n",
        "      'birth_place':birth_place,\n",
        "  }"
      ],
      "metadata": {
        "id": "vqCVrTrrMRm9"
      },
      "execution_count": 121,
      "outputs": []
    },
    {
      "cell_type": "code",
      "source": [
        "extract_personal_information(text)"
      ],
      "metadata": {
        "colab": {
          "base_uri": "https://localhost:8080/"
        },
        "id": "mE-9hQ7XOobR",
        "outputId": "ca8a2fd8-037d-4649-b583-6fb7f615ecab"
      },
      "execution_count": 122,
      "outputs": [
        {
          "output_type": "execute_result",
          "data": {
            "text/plain": [
              "{'age': 50,\n",
              " 'full_name': 'Elon Reeve Musk',\n",
              " 'birth_date': 'June 28, 1971 ',\n",
              " 'birth_place': 'Pretoria, Transvaal, South Africa'}"
            ]
          },
          "metadata": {},
          "execution_count": 122
        }
      ]
    },
    {
      "cell_type": "code",
      "source": [
        "text='''\n",
        "Born\tElon Reeve Musk\n",
        "June 28, 1971 (age 50)\n",
        "Pretoria, Transvaal, South Africa\n",
        "Citizenship\n",
        "South Africa (1971–present)\n",
        "Canada (1971–present)\n",
        "United States (2002–present)\n",
        "Education\tUniversity of Pennsylvania (BS, BA)\n",
        "Title\n",
        "Founder, CEO and Chief Engineer of SpaceX\n",
        "CEO and product architect of Tesla, Inc.\n",
        "Founder of The Boring Company and X.com (now part of PayPal)\n",
        "Co-founder of Neuralink, OpenAI, and Zip2\n",
        "Spouse(s)\n",
        "Justine Wilson\n",
        "​\n",
        "​(m. 2000; div. 2008)​\n",
        "Talulah Riley\n",
        "​\n",
        "​(m. 2010; div. 2012)​\n",
        "​\n",
        "​(m. 2013; div. 2016)\n",
        "'''"
      ],
      "metadata": {
        "id": "5tej52IEPh_S"
      },
      "execution_count": 123,
      "outputs": []
    },
    {
      "cell_type": "code",
      "source": [
        "extract_personal_information(text)"
      ],
      "metadata": {
        "colab": {
          "base_uri": "https://localhost:8080/"
        },
        "id": "7R1QUy-YQWqu",
        "outputId": "3ab51025-1c66-4870-de99-0b4eca3a26c5"
      },
      "execution_count": 124,
      "outputs": [
        {
          "output_type": "execute_result",
          "data": {
            "text/plain": [
              "{'age': 50,\n",
              " 'full_name': 'Elon Reeve Musk',\n",
              " 'birth_date': 'June 28, 1971 ',\n",
              " 'birth_place': 'Pretoria, Transvaal, South Africa'}"
            ]
          },
          "metadata": {},
          "execution_count": 124
        }
      ]
    }
  ]
}